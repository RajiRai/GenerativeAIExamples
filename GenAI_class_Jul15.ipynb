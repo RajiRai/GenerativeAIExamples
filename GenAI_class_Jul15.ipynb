{
  "nbformat": 4,
  "nbformat_minor": 0,
  "metadata": {
    "colab": {
      "provenance": [],
      "mount_file_id": "1-sO9jW52n8G8b1Zc500OrjzjI76ntgOh",
      "authorship_tag": "ABX9TyP56dgD6qsYpHIUBvihhNYw",
      "include_colab_link": true
    },
    "kernelspec": {
      "name": "python3",
      "display_name": "Python 3"
    },
    "language_info": {
      "name": "python"
    }
  },
  "cells": [
    {
      "cell_type": "markdown",
      "metadata": {
        "id": "view-in-github",
        "colab_type": "text"
      },
      "source": [
        "<a href=\"https://colab.research.google.com/github/RajiRai/GenerativeAIExamples/blob/main/GenAI_class_Jul15.ipynb\" target=\"_parent\"><img src=\"https://colab.research.google.com/assets/colab-badge.svg\" alt=\"Open In Colab\"/></a>"
      ]
    },
    {
      "cell_type": "code",
      "execution_count": 1,
      "metadata": {
        "id": "Am9GXQPnQQCA",
        "colab": {
          "base_uri": "https://localhost:8080/"
        },
        "outputId": "868be24e-8058-4ab0-96c6-3ff7de7f4517"
      },
      "outputs": [
        {
          "output_type": "stream",
          "name": "stdout",
          "text": [
            "Collecting cohere\n",
            "  Downloading cohere-5.5.8-py3-none-any.whl (173 kB)\n",
            "\u001b[2K     \u001b[90m━━━━━━━━━━━━━━━━━━━━━━━━━━━━━━━━━━━━━━━━\u001b[0m \u001b[32m173.8/173.8 kB\u001b[0m \u001b[31m1.8 MB/s\u001b[0m eta \u001b[36m0:00:00\u001b[0m\n",
            "\u001b[?25hRequirement already satisfied: altair in /usr/local/lib/python3.10/dist-packages (4.2.2)\n",
            "Collecting umap-learn\n",
            "  Downloading umap_learn-0.5.6-py3-none-any.whl (85 kB)\n",
            "\u001b[2K     \u001b[90m━━━━━━━━━━━━━━━━━━━━━━━━━━━━━━━━━━━━━━━━\u001b[0m \u001b[32m85.7/85.7 kB\u001b[0m \u001b[31m3.9 MB/s\u001b[0m eta \u001b[36m0:00:00\u001b[0m\n",
            "\u001b[?25hCollecting boto3<2.0.0,>=1.34.0 (from cohere)\n",
            "  Downloading boto3-1.34.144-py3-none-any.whl (139 kB)\n",
            "\u001b[2K     \u001b[90m━━━━━━━━━━━━━━━━━━━━━━━━━━━━━━━━━━━━━━━━\u001b[0m \u001b[32m139.2/139.2 kB\u001b[0m \u001b[31m2.9 MB/s\u001b[0m eta \u001b[36m0:00:00\u001b[0m\n",
            "\u001b[?25hCollecting fastavro<2.0.0,>=1.9.4 (from cohere)\n",
            "  Downloading fastavro-1.9.5-cp310-cp310-manylinux_2_17_x86_64.manylinux2014_x86_64.whl (3.1 MB)\n",
            "\u001b[2K     \u001b[90m━━━━━━━━━━━━━━━━━━━━━━━━━━━━━━━━━━━━━━━━\u001b[0m \u001b[32m3.1/3.1 MB\u001b[0m \u001b[31m19.1 MB/s\u001b[0m eta \u001b[36m0:00:00\u001b[0m\n",
            "\u001b[?25hCollecting httpx>=0.21.2 (from cohere)\n",
            "  Downloading httpx-0.27.0-py3-none-any.whl (75 kB)\n",
            "\u001b[2K     \u001b[90m━━━━━━━━━━━━━━━━━━━━━━━━━━━━━━━━━━━━━━━━\u001b[0m \u001b[32m75.6/75.6 kB\u001b[0m \u001b[31m6.1 MB/s\u001b[0m eta \u001b[36m0:00:00\u001b[0m\n",
            "\u001b[?25hCollecting httpx-sse<0.5.0,>=0.4.0 (from cohere)\n",
            "  Downloading httpx_sse-0.4.0-py3-none-any.whl (7.8 kB)\n",
            "Collecting parameterized<0.10.0,>=0.9.0 (from cohere)\n",
            "  Downloading parameterized-0.9.0-py2.py3-none-any.whl (20 kB)\n",
            "Requirement already satisfied: pydantic>=1.9.2 in /usr/local/lib/python3.10/dist-packages (from cohere) (2.8.2)\n",
            "Requirement already satisfied: requests<3.0.0,>=2.0.0 in /usr/local/lib/python3.10/dist-packages (from cohere) (2.31.0)\n",
            "Requirement already satisfied: tokenizers<1,>=0.15 in /usr/local/lib/python3.10/dist-packages (from cohere) (0.19.1)\n",
            "Collecting types-requests<3.0.0,>=2.0.0 (from cohere)\n",
            "  Downloading types_requests-2.32.0.20240712-py3-none-any.whl (15 kB)\n",
            "Requirement already satisfied: typing_extensions>=4.0.0 in /usr/local/lib/python3.10/dist-packages (from cohere) (4.12.2)\n",
            "Requirement already satisfied: entrypoints in /usr/local/lib/python3.10/dist-packages (from altair) (0.4)\n",
            "Requirement already satisfied: jinja2 in /usr/local/lib/python3.10/dist-packages (from altair) (3.1.4)\n",
            "Requirement already satisfied: jsonschema>=3.0 in /usr/local/lib/python3.10/dist-packages (from altair) (4.19.2)\n",
            "Requirement already satisfied: numpy in /usr/local/lib/python3.10/dist-packages (from altair) (1.25.2)\n",
            "Requirement already satisfied: pandas>=0.18 in /usr/local/lib/python3.10/dist-packages (from altair) (2.0.3)\n",
            "Requirement already satisfied: toolz in /usr/local/lib/python3.10/dist-packages (from altair) (0.12.1)\n",
            "Requirement already satisfied: scipy>=1.3.1 in /usr/local/lib/python3.10/dist-packages (from umap-learn) (1.11.4)\n",
            "Requirement already satisfied: scikit-learn>=0.22 in /usr/local/lib/python3.10/dist-packages (from umap-learn) (1.2.2)\n",
            "Requirement already satisfied: numba>=0.51.2 in /usr/local/lib/python3.10/dist-packages (from umap-learn) (0.58.1)\n",
            "Collecting pynndescent>=0.5 (from umap-learn)\n",
            "  Downloading pynndescent-0.5.13-py3-none-any.whl (56 kB)\n",
            "\u001b[2K     \u001b[90m━━━━━━━━━━━━━━━━━━━━━━━━━━━━━━━━━━━━━━━━\u001b[0m \u001b[32m56.9/56.9 kB\u001b[0m \u001b[31m5.0 MB/s\u001b[0m eta \u001b[36m0:00:00\u001b[0m\n",
            "\u001b[?25hRequirement already satisfied: tqdm in /usr/local/lib/python3.10/dist-packages (from umap-learn) (4.66.4)\n",
            "Collecting botocore<1.35.0,>=1.34.144 (from boto3<2.0.0,>=1.34.0->cohere)\n",
            "  Downloading botocore-1.34.144-py3-none-any.whl (12.4 MB)\n",
            "\u001b[2K     \u001b[90m━━━━━━━━━━━━━━━━━━━━━━━━━━━━━━━━━━━━━━━━\u001b[0m \u001b[32m12.4/12.4 MB\u001b[0m \u001b[31m43.2 MB/s\u001b[0m eta \u001b[36m0:00:00\u001b[0m\n",
            "\u001b[?25hCollecting jmespath<2.0.0,>=0.7.1 (from boto3<2.0.0,>=1.34.0->cohere)\n",
            "  Downloading jmespath-1.0.1-py3-none-any.whl (20 kB)\n",
            "Collecting s3transfer<0.11.0,>=0.10.0 (from boto3<2.0.0,>=1.34.0->cohere)\n",
            "  Downloading s3transfer-0.10.2-py3-none-any.whl (82 kB)\n",
            "\u001b[2K     \u001b[90m━━━━━━━━━━━━━━━━━━━━━━━━━━━━━━━━━━━━━━━━\u001b[0m \u001b[32m82.7/82.7 kB\u001b[0m \u001b[31m4.1 MB/s\u001b[0m eta \u001b[36m0:00:00\u001b[0m\n",
            "\u001b[?25hRequirement already satisfied: anyio in /usr/local/lib/python3.10/dist-packages (from httpx>=0.21.2->cohere) (3.7.1)\n",
            "Requirement already satisfied: certifi in /usr/local/lib/python3.10/dist-packages (from httpx>=0.21.2->cohere) (2024.7.4)\n",
            "Collecting httpcore==1.* (from httpx>=0.21.2->cohere)\n",
            "  Downloading httpcore-1.0.5-py3-none-any.whl (77 kB)\n",
            "\u001b[2K     \u001b[90m━━━━━━━━━━━━━━━━━━━━━━━━━━━━━━━━━━━━━━━━\u001b[0m \u001b[32m77.9/77.9 kB\u001b[0m \u001b[31m8.2 MB/s\u001b[0m eta \u001b[36m0:00:00\u001b[0m\n",
            "\u001b[?25hRequirement already satisfied: idna in /usr/local/lib/python3.10/dist-packages (from httpx>=0.21.2->cohere) (3.7)\n",
            "Requirement already satisfied: sniffio in /usr/local/lib/python3.10/dist-packages (from httpx>=0.21.2->cohere) (1.3.1)\n",
            "Collecting h11<0.15,>=0.13 (from httpcore==1.*->httpx>=0.21.2->cohere)\n",
            "  Downloading h11-0.14.0-py3-none-any.whl (58 kB)\n",
            "\u001b[2K     \u001b[90m━━━━━━━━━━━━━━━━━━━━━━━━━━━━━━━━━━━━━━━━\u001b[0m \u001b[32m58.3/58.3 kB\u001b[0m \u001b[31m6.6 MB/s\u001b[0m eta \u001b[36m0:00:00\u001b[0m\n",
            "\u001b[?25hRequirement already satisfied: attrs>=22.2.0 in /usr/local/lib/python3.10/dist-packages (from jsonschema>=3.0->altair) (23.2.0)\n",
            "Requirement already satisfied: jsonschema-specifications>=2023.03.6 in /usr/local/lib/python3.10/dist-packages (from jsonschema>=3.0->altair) (2023.12.1)\n",
            "Requirement already satisfied: referencing>=0.28.4 in /usr/local/lib/python3.10/dist-packages (from jsonschema>=3.0->altair) (0.35.1)\n",
            "Requirement already satisfied: rpds-py>=0.7.1 in /usr/local/lib/python3.10/dist-packages (from jsonschema>=3.0->altair) (0.19.0)\n",
            "Requirement already satisfied: llvmlite<0.42,>=0.41.0dev0 in /usr/local/lib/python3.10/dist-packages (from numba>=0.51.2->umap-learn) (0.41.1)\n",
            "Requirement already satisfied: python-dateutil>=2.8.2 in /usr/local/lib/python3.10/dist-packages (from pandas>=0.18->altair) (2.8.2)\n",
            "Requirement already satisfied: pytz>=2020.1 in /usr/local/lib/python3.10/dist-packages (from pandas>=0.18->altair) (2023.4)\n",
            "Requirement already satisfied: tzdata>=2022.1 in /usr/local/lib/python3.10/dist-packages (from pandas>=0.18->altair) (2024.1)\n",
            "Requirement already satisfied: annotated-types>=0.4.0 in /usr/local/lib/python3.10/dist-packages (from pydantic>=1.9.2->cohere) (0.7.0)\n",
            "Requirement already satisfied: pydantic-core==2.20.1 in /usr/local/lib/python3.10/dist-packages (from pydantic>=1.9.2->cohere) (2.20.1)\n",
            "Requirement already satisfied: joblib>=0.11 in /usr/local/lib/python3.10/dist-packages (from pynndescent>=0.5->umap-learn) (1.4.2)\n",
            "Requirement already satisfied: charset-normalizer<4,>=2 in /usr/local/lib/python3.10/dist-packages (from requests<3.0.0,>=2.0.0->cohere) (3.3.2)\n",
            "Requirement already satisfied: urllib3<3,>=1.21.1 in /usr/local/lib/python3.10/dist-packages (from requests<3.0.0,>=2.0.0->cohere) (2.0.7)\n",
            "Requirement already satisfied: threadpoolctl>=2.0.0 in /usr/local/lib/python3.10/dist-packages (from scikit-learn>=0.22->umap-learn) (3.5.0)\n",
            "Requirement already satisfied: huggingface-hub<1.0,>=0.16.4 in /usr/local/lib/python3.10/dist-packages (from tokenizers<1,>=0.15->cohere) (0.23.4)\n",
            "Requirement already satisfied: MarkupSafe>=2.0 in /usr/local/lib/python3.10/dist-packages (from jinja2->altair) (2.1.5)\n",
            "Requirement already satisfied: filelock in /usr/local/lib/python3.10/dist-packages (from huggingface-hub<1.0,>=0.16.4->tokenizers<1,>=0.15->cohere) (3.15.4)\n",
            "Requirement already satisfied: fsspec>=2023.5.0 in /usr/local/lib/python3.10/dist-packages (from huggingface-hub<1.0,>=0.16.4->tokenizers<1,>=0.15->cohere) (2023.6.0)\n",
            "Requirement already satisfied: packaging>=20.9 in /usr/local/lib/python3.10/dist-packages (from huggingface-hub<1.0,>=0.16.4->tokenizers<1,>=0.15->cohere) (24.1)\n",
            "Requirement already satisfied: pyyaml>=5.1 in /usr/local/lib/python3.10/dist-packages (from huggingface-hub<1.0,>=0.16.4->tokenizers<1,>=0.15->cohere) (6.0.1)\n",
            "Requirement already satisfied: six>=1.5 in /usr/local/lib/python3.10/dist-packages (from python-dateutil>=2.8.2->pandas>=0.18->altair) (1.16.0)\n",
            "Requirement already satisfied: exceptiongroup in /usr/local/lib/python3.10/dist-packages (from anyio->httpx>=0.21.2->cohere) (1.2.1)\n",
            "Installing collected packages: types-requests, parameterized, jmespath, httpx-sse, h11, fastavro, httpcore, botocore, s3transfer, pynndescent, httpx, umap-learn, boto3, cohere\n",
            "Successfully installed boto3-1.34.144 botocore-1.34.144 cohere-5.5.8 fastavro-1.9.5 h11-0.14.0 httpcore-1.0.5 httpx-0.27.0 httpx-sse-0.4.0 jmespath-1.0.1 parameterized-0.9.0 pynndescent-0.5.13 s3transfer-0.10.2 types-requests-2.32.0.20240712 umap-learn-0.5.6\n"
          ]
        }
      ],
      "source": [
        "! pip install cohere altair umap-learn"
      ]
    },
    {
      "cell_type": "code",
      "source": [
        "import cohere\n",
        "import pandas as pd\n",
        "import numpy as np\n",
        "import altair as alt\n",
        "\n",
        "# setup client\n",
        "\n",
        "from google.colab import userdata\n",
        "key = userdata.get('Cohere_key')\n",
        "\n",
        "# setup prompt\n",
        "\n",
        "co=cohere.Client(key)\n",
        "\n",
        "prompt = \"explain hampi\"\n",
        "\n",
        "response = co.chat (message = prompt,\n",
        "    model = 'command-r'\n",
        "    )\n",
        "\n",
        "\n",
        "print (response.text)\n",
        "\n",
        "\n",
        "\n"
      ],
      "metadata": {
        "colab": {
          "base_uri": "https://localhost:8080/"
        },
        "id": "yHs_pZQ0RFtt",
        "outputId": "4a0b1596-f09b-40f4-fa00-b7085bd9417f"
      },
      "execution_count": 5,
      "outputs": [
        {
          "output_type": "stream",
          "name": "stdout",
          "text": [
            "Hampi is a UNESCO World Heritage Site located in central southern India, in the state of Karnataka. It was once the thriving capital of the Vijayanagara Empire, which flourished between the 14th and 17th centuries.\n",
            "\n",
            "The name 'Hampi' is derived from 'pampa', a local term for the nearby Tungabhadra River. The area is filled with stunning landscapes, granite hills, and lush fields, creating a captivating scenery. The ancient city of Hampi was a prosperous center of trade and culture, attracting merchants and scholars from across the region.\n",
            "\n",
            "Hampi's legacy is deeply rooted in mythology and is closely associated with Hindu epic poems like the Ramayana. It's believed to be the site of the ancient kingdom of Kishkinda, where the monkey god Hanuman and his army of bears and monkeys resided. The area holds religious significance, with numerous temples and shrines scattered across the landscape.\n",
            "\n",
            "The Vijayanagara Empire, a powerful Hindu kingdom, chose Hampi as its capital, and it became a bustling metropolis, famed for its grand palaces, victorious monuments, and magnificent temples. The empire's influence peaked in the 16th century under the rule of Krishna Deva Raya, a renowned king who further enhanced the city's grandeur.\n",
            "\n",
            "However, the prosperity of Hampi was short-lived. The city faced a sudden decline after a devastating invasion in the late 16th century. The Vijayanagara Empire was attacked by a massive army from the Deccan Plateau, a region in southern India, leading to the fall of the empire and the abandonment of the city.\n",
            "\n",
            "Today, Hampi stands as a captivating ruins city, captivating visitors with its broken walls, majestic structures, and mysterious stone remnants. It's divided into two main areas: the sacred centre, filled with temples and religious structures, and the royal centre, which was the administrative and ceremonial hub of the empire. The region is also known for its numerous ancient ruins, including the famous Virupaksha Temple, which is still operational today.\n",
            "\n",
            "Hampi has become a popular tourist destination, attracting history enthusiasts, cultural seekers, and nature lovers alike. Its rich historical significance, stunning architecture, and serene landscapes make it a captivating place to explore, offering a glimpse into the glorious past of the Vijayanagara Empire.\n"
          ]
        }
      ]
    },
    {
      "cell_type": "code",
      "source": [
        "prompt = \"\"\"\n",
        "Write the first paragraph of a blog post given a blog title.\n",
        "--\n",
        "Blog Title: Best Activities in Toronto\n",
        "First Paragraph: Looking for fun things to do in Toronto? When it comes to exploring Canada's\n",
        "largest city, there's an ever-evolving set of activities to choose from. Whether you're looking to\n",
        "visit a local museum or sample the city's varied cuisine, there is plenty to fill any itinerary. In\n",
        "this blog post, I'll share some of my favorite recommendations\n",
        "--\n",
        "Blog Title: Mastering Dynamic Programming\n",
        "First Paragraph: In this piece, we'll help you understand the fundamentals of dynamic programming,\n",
        "and when to apply this optimization technique. We'll break down bottom-up and top-down approaches to\n",
        "solve dynamic programming problems.\n",
        "--\n",
        "Blog Title: Learning to Code with Hello, World!\n",
        "First Paragraph:\"\"\"\n",
        "\n",
        "\n",
        "response = co.chat (\n",
        "    message = prompt,\n",
        "    model = 'command-r'\n",
        "    )\n",
        "\n",
        "\n",
        "print (response.text)"
      ],
      "metadata": {
        "colab": {
          "base_uri": "https://localhost:8080/"
        },
        "id": "QRm3d1mMTuEA",
        "outputId": "3343dbe0-be0b-46f5-f7bf-413fbb482809"
      },
      "execution_count": 7,
      "outputs": [
        {
          "output_type": "stream",
          "name": "stdout",
          "text": [
            "Starting to code can be daunting, but it's actually simpler than you think! The famous \"Hello, World!\" program is printed out by many a beginner as their first taste of the exciting world of software development. In this blog, I will guide you through the process of writing your very first code, breaking down the complexities of syntax and simplifying them step by step. Before you know it, you'll be on your way to becoming a programming pro, with your first hello opening up a world of possibilities!\n"
          ]
        }
      ]
    },
    {
      "cell_type": "code",
      "source": [
        "# Generalize prompts\n",
        "\n",
        "def generate_text (topic) :\n",
        "  prompt = f\"\"\"\n",
        "Write the first paragraph of a blog post given a blog title.\n",
        "--\n",
        "Blog Title: Best Activities in Toronto\n",
        "First Paragraph: Looking for fun things to do in Toronto? When it comes to exploring Canada's\n",
        "largest city, there's an ever-evolving set of activities to choose from. Whether you're looking to\n",
        "visit a local museum or sample the city's varied cuisine, there is plenty to fill any itinerary. In\n",
        "this blog post, I'll share some of my favorite recommendations\n",
        "--\n",
        "Blog Title: Mastering Dynamic Programming\n",
        "First Paragraph: In this piece, we'll help you understand the fundamentals of dynamic programming,\n",
        "and when to apply this optimization technique. We'll break down bottom-up and top-down approaches to\n",
        "solve dynamic programming problems.\n",
        "--\n",
        "Blog Title: {topic}\n",
        "First Paragraph:\"\"\"\n",
        "\n",
        "  response = co.chat (\n",
        "    message = prompt,\n",
        "    model = 'command-r'\n",
        "    )\n",
        "  return response.text\n",
        "\n"
      ],
      "metadata": {
        "id": "KTOyFJoDXBXP"
      },
      "execution_count": 12,
      "outputs": []
    },
    {
      "cell_type": "code",
      "source": [
        "#list of topics\n",
        "\n",
        "topics = [\"how is canada today\",\"how to grow apple\", \"how to jump role\"]"
      ],
      "metadata": {
        "id": "SqKF1B3kXnWo"
      },
      "execution_count": 13,
      "outputs": []
    },
    {
      "cell_type": "code",
      "source": [
        "paragraphs =[]\n",
        "\n",
        "for topic in topics :\n",
        "  paragraphs.append(generate_text(topic))\n",
        "\n",
        "for topic, para in zip(topics,paragraphs) :\n",
        "  print(f\"Topic: {topic}\")\n",
        "  print(f\"First para: {para}\")\n",
        "  print(\"--- \" * 20)"
      ],
      "metadata": {
        "colab": {
          "base_uri": "https://localhost:8080/"
        },
        "id": "ZsdYPVORXuS2",
        "outputId": "c2956062-6dc6-41d6-f398-a596d424b219"
      },
      "execution_count": 14,
      "outputs": [
        {
          "output_type": "stream",
          "name": "stdout",
          "text": [
            "Topic: how is canada today\n",
            "First para: Canada today is a vibrant and diverse country with a range of exciting developments across its provinces. From the bustling city of Toronto to the stunning natural landscapes of the Canadian Rockies, there's always something new to discover. In this ever-changing landscape, there are countless stories of innovation, culture, and community that continue to unfold. Whether it's the latest technological advancements, the thriving arts scene, or the diverse culinary experiences that continue to shape Canada's cities, there's a wealth of captivating tales to explore. Come along on this journey as we uncover the wonders of Canada in the present and look towards its exciting future.\n",
            "--- --- --- --- --- --- --- --- --- --- --- --- --- --- --- --- --- --- --- --- \n",
            "Topic: how to grow apple\n",
            "First para: Apple trees have been a symbol of tranquility and serenity since ancient times. Growing your own apple tree is an incredibly rewarding experience, offering a bountiful harvest of nature's delicious treats. In this blog, we will delve into the intricacies of cultivating these aromatic fruits. From finding the right variety and preparing the soil to the art of pruning and the science behind fertilizing, we will explore the wonderful world of apple growing. Whether you're a seasoned gardener or a novice, the process is captivating and offers a well-deserved break from the daily grind.\n",
            "--- --- --- --- --- --- --- --- --- --- --- --- --- --- --- --- --- --- --- --- \n",
            "Topic: how to jump role\n",
            "First para: Blog Title: How to Jump Role\n",
            "First Paragraph: Have you ever felt stuck in your career, like you're not growing or learning anymore? A job change can be a great way to reinvigorate your passion and develop new skills, but the thought of starting from scratch can be daunting. In this blog, I'll share my insights on how to navigate the complexities of jumping roles, including the challenges and strategies for a smooth transition. Whether you're seeking a change in industry or aiming for a more senior position, these tips will help you chart a successful path forward.\n",
            "--- --- --- --- --- --- --- --- --- --- --- --- --- --- --- --- --- --- --- --- \n"
          ]
        }
      ]
    },
    {
      "cell_type": "code",
      "source": [
        "#classify example\n",
        "\n",
        "from cohere import ClassifyExample\n",
        "\n",
        "examples = [ClassifyExample(text=\"I’m so proud of you\", label=\"positive\"),\n",
        "    ClassifyExample(text=\"What a great time to be alive\", label=\"positive\"),\n",
        "    ClassifyExample(text=\"That’s awesome work\", label=\"positive\"),\n",
        "    ClassifyExample(text=\"The service was amazing\", label=\"positive\"),\n",
        "    ClassifyExample(text=\"I love my family\", label=\"positive\"),\n",
        "    ClassifyExample(text=\"They don't care about me\", label=\"negative\"),\n",
        "    ClassifyExample(text=\"I hate this place\", label=\"negative\"),\n",
        "    ClassifyExample(text=\"The most ridiculous thing I've ever heard\", label=\"negative\"),\n",
        "    ClassifyExample(text=\"I am really frustrated\", label=\"negative\"),\n",
        "    ClassifyExample(text=\"This is so unfair\", label=\"negative\"),\n",
        "    ClassifyExample(text=\"This made me think\", label=\"neutral\"),\n",
        "    ClassifyExample(text=\"The good old days\", label=\"neutral\"),\n",
        "    ClassifyExample(text=\"What's the difference\", label=\"neutral\"),\n",
        "    ClassifyExample(text=\"You can't ignore this\", label=\"neutral\"),\n",
        "    ClassifyExample(text=\"That's how I see it\", label=\"neutral\")\n",
        "\n",
        "]\n",
        "\n",
        "inputs = [\"Hello, world! What a beautiful day\",\n",
        "        \"It was a great time with great people\",\n",
        "        \"Great place to work\",\n",
        "        \"That was a wonderful evening\",\n",
        "        \"Maybe this is why\",\n",
        "        \"Let's start again\",\n",
        "        \"That's how I see it\",\n",
        "        \"These are all facts\",\n",
        "        \"This is the worst thing\",\n",
        "        \"I cannot stand this any longer\",\n",
        "        \"This is really annoying\",\n",
        "        \"I am just plain fed up\"]"
      ],
      "metadata": {
        "id": "qRdjT7HvaKQt"
      },
      "execution_count": 19,
      "outputs": []
    },
    {
      "cell_type": "code",
      "source": [
        "def classify_text(inputs,example) :\n",
        "  response = co.classify (\n",
        "      inputs = inputs,\n",
        "      examples = example,\n",
        "      model ='embed-english-v2.0' # embed-english-v3.0\n",
        "  )\n",
        "\n",
        "  classifications = response.classifications\n",
        "\n",
        "  return classifications"
      ],
      "metadata": {
        "id": "bDEwjrsbaKGe"
      },
      "execution_count": 22,
      "outputs": []
    },
    {
      "cell_type": "code",
      "source": [
        "predictions = classify_text(inputs,examples)\n",
        "\n",
        "classes = [\"positive\",\"negative\", \"neutral\"]\n",
        "\n",
        "for inp, pred in zip(inputs,predictions):\n",
        "  class_pred = pred.predictions[0]\n",
        "  class_idx = classes.index(class_pred)\n",
        "  class_conf = pred.confidences[0]\n",
        "\n",
        "  print(f\"Input : {inp}\")\n",
        "  print(f\"Predicted class : {classes[class_idx]}\")\n",
        "  print(f\"Confidence : {class_conf}\")\n",
        "  print(\"--\"*20)\n",
        "\n",
        "\n",
        "\n",
        "\n",
        "\n"
      ],
      "metadata": {
        "colab": {
          "base_uri": "https://localhost:8080/"
        },
        "id": "8DZ2mcd1aJz9",
        "outputId": "bc5f8856-ba8f-47eb-d905-f2d1fcb95f1e"
      },
      "execution_count": 24,
      "outputs": [
        {
          "output_type": "stream",
          "name": "stdout",
          "text": [
            "Input : Hello, world! What a beautiful day\n",
            "Predicted class : positive\n",
            "Confidence : 0.8356367\n",
            "----------------------------------------\n",
            "Input : It was a great time with great people\n",
            "Predicted class : positive\n",
            "Confidence : 0.9894383\n",
            "----------------------------------------\n",
            "Input : Great place to work\n",
            "Predicted class : positive\n",
            "Confidence : 0.90780926\n",
            "----------------------------------------\n",
            "Input : That was a wonderful evening\n",
            "Predicted class : positive\n",
            "Confidence : 0.9594032\n",
            "----------------------------------------\n",
            "Input : Maybe this is why\n",
            "Predicted class : neutral\n",
            "Confidence : 0.69506323\n",
            "----------------------------------------\n",
            "Input : Let's start again\n",
            "Predicted class : neutral\n",
            "Confidence : 0.83426356\n",
            "----------------------------------------\n",
            "Input : That's how I see it\n",
            "Predicted class : neutral\n",
            "Confidence : 0.9990226\n",
            "----------------------------------------\n",
            "Input : These are all facts\n",
            "Predicted class : neutral\n",
            "Confidence : 0.7789761\n",
            "----------------------------------------\n",
            "Input : This is the worst thing\n",
            "Predicted class : negative\n",
            "Confidence : 0.93261963\n",
            "----------------------------------------\n",
            "Input : I cannot stand this any longer\n",
            "Predicted class : negative\n",
            "Confidence : 0.9263561\n",
            "----------------------------------------\n",
            "Input : This is really annoying\n",
            "Predicted class : negative\n",
            "Confidence : 0.9851861\n",
            "----------------------------------------\n",
            "Input : I am just plain fed up\n",
            "Predicted class : negative\n",
            "Confidence : 0.999146\n",
            "----------------------------------------\n"
          ]
        }
      ]
    },
    {
      "cell_type": "code",
      "source": [
        "df = pd.read_csv('/content/drive/MyDrive/GENAI-RAW/hello-world-kw.csv',names=['search_term'])\n",
        "\n",
        "df.head()"
      ],
      "metadata": {
        "colab": {
          "base_uri": "https://localhost:8080/",
          "height": 206
        },
        "id": "AiwOQW3YfZjI",
        "outputId": "9eb91488-19d9-40b0-87c2-4b645c31f03a"
      },
      "execution_count": 42,
      "outputs": [
        {
          "output_type": "execute_result",
          "data": {
            "text/plain": [
              "                                    search_term\n",
              "0            how to print hello world in python\n",
              "1                           what is hello world\n",
              "2  how do you write hello world in an alert box\n",
              "3              how to print hello world in java\n",
              "4           how to write hello world in eclipse"
            ],
            "text/html": [
              "\n",
              "  <div id=\"df-ca1dfd78-ad21-4863-b025-253098735132\" class=\"colab-df-container\">\n",
              "    <div>\n",
              "<style scoped>\n",
              "    .dataframe tbody tr th:only-of-type {\n",
              "        vertical-align: middle;\n",
              "    }\n",
              "\n",
              "    .dataframe tbody tr th {\n",
              "        vertical-align: top;\n",
              "    }\n",
              "\n",
              "    .dataframe thead th {\n",
              "        text-align: right;\n",
              "    }\n",
              "</style>\n",
              "<table border=\"1\" class=\"dataframe\">\n",
              "  <thead>\n",
              "    <tr style=\"text-align: right;\">\n",
              "      <th></th>\n",
              "      <th>search_term</th>\n",
              "    </tr>\n",
              "  </thead>\n",
              "  <tbody>\n",
              "    <tr>\n",
              "      <th>0</th>\n",
              "      <td>how to print hello world in python</td>\n",
              "    </tr>\n",
              "    <tr>\n",
              "      <th>1</th>\n",
              "      <td>what is hello world</td>\n",
              "    </tr>\n",
              "    <tr>\n",
              "      <th>2</th>\n",
              "      <td>how do you write hello world in an alert box</td>\n",
              "    </tr>\n",
              "    <tr>\n",
              "      <th>3</th>\n",
              "      <td>how to print hello world in java</td>\n",
              "    </tr>\n",
              "    <tr>\n",
              "      <th>4</th>\n",
              "      <td>how to write hello world in eclipse</td>\n",
              "    </tr>\n",
              "  </tbody>\n",
              "</table>\n",
              "</div>\n",
              "    <div class=\"colab-df-buttons\">\n",
              "\n",
              "  <div class=\"colab-df-container\">\n",
              "    <button class=\"colab-df-convert\" onclick=\"convertToInteractive('df-ca1dfd78-ad21-4863-b025-253098735132')\"\n",
              "            title=\"Convert this dataframe to an interactive table.\"\n",
              "            style=\"display:none;\">\n",
              "\n",
              "  <svg xmlns=\"http://www.w3.org/2000/svg\" height=\"24px\" viewBox=\"0 -960 960 960\">\n",
              "    <path d=\"M120-120v-720h720v720H120Zm60-500h600v-160H180v160Zm220 220h160v-160H400v160Zm0 220h160v-160H400v160ZM180-400h160v-160H180v160Zm440 0h160v-160H620v160ZM180-180h160v-160H180v160Zm440 0h160v-160H620v160Z\"/>\n",
              "  </svg>\n",
              "    </button>\n",
              "\n",
              "  <style>\n",
              "    .colab-df-container {\n",
              "      display:flex;\n",
              "      gap: 12px;\n",
              "    }\n",
              "\n",
              "    .colab-df-convert {\n",
              "      background-color: #E8F0FE;\n",
              "      border: none;\n",
              "      border-radius: 50%;\n",
              "      cursor: pointer;\n",
              "      display: none;\n",
              "      fill: #1967D2;\n",
              "      height: 32px;\n",
              "      padding: 0 0 0 0;\n",
              "      width: 32px;\n",
              "    }\n",
              "\n",
              "    .colab-df-convert:hover {\n",
              "      background-color: #E2EBFA;\n",
              "      box-shadow: 0px 1px 2px rgba(60, 64, 67, 0.3), 0px 1px 3px 1px rgba(60, 64, 67, 0.15);\n",
              "      fill: #174EA6;\n",
              "    }\n",
              "\n",
              "    .colab-df-buttons div {\n",
              "      margin-bottom: 4px;\n",
              "    }\n",
              "\n",
              "    [theme=dark] .colab-df-convert {\n",
              "      background-color: #3B4455;\n",
              "      fill: #D2E3FC;\n",
              "    }\n",
              "\n",
              "    [theme=dark] .colab-df-convert:hover {\n",
              "      background-color: #434B5C;\n",
              "      box-shadow: 0px 1px 3px 1px rgba(0, 0, 0, 0.15);\n",
              "      filter: drop-shadow(0px 1px 2px rgba(0, 0, 0, 0.3));\n",
              "      fill: #FFFFFF;\n",
              "    }\n",
              "  </style>\n",
              "\n",
              "    <script>\n",
              "      const buttonEl =\n",
              "        document.querySelector('#df-ca1dfd78-ad21-4863-b025-253098735132 button.colab-df-convert');\n",
              "      buttonEl.style.display =\n",
              "        google.colab.kernel.accessAllowed ? 'block' : 'none';\n",
              "\n",
              "      async function convertToInteractive(key) {\n",
              "        const element = document.querySelector('#df-ca1dfd78-ad21-4863-b025-253098735132');\n",
              "        const dataTable =\n",
              "          await google.colab.kernel.invokeFunction('convertToInteractive',\n",
              "                                                    [key], {});\n",
              "        if (!dataTable) return;\n",
              "\n",
              "        const docLinkHtml = 'Like what you see? Visit the ' +\n",
              "          '<a target=\"_blank\" href=https://colab.research.google.com/notebooks/data_table.ipynb>data table notebook</a>'\n",
              "          + ' to learn more about interactive tables.';\n",
              "        element.innerHTML = '';\n",
              "        dataTable['output_type'] = 'display_data';\n",
              "        await google.colab.output.renderOutput(dataTable, element);\n",
              "        const docLink = document.createElement('div');\n",
              "        docLink.innerHTML = docLinkHtml;\n",
              "        element.appendChild(docLink);\n",
              "      }\n",
              "    </script>\n",
              "  </div>\n",
              "\n",
              "\n",
              "<div id=\"df-969d98d4-8f17-41d7-8222-0793bcaf84d4\">\n",
              "  <button class=\"colab-df-quickchart\" onclick=\"quickchart('df-969d98d4-8f17-41d7-8222-0793bcaf84d4')\"\n",
              "            title=\"Suggest charts\"\n",
              "            style=\"display:none;\">\n",
              "\n",
              "<svg xmlns=\"http://www.w3.org/2000/svg\" height=\"24px\"viewBox=\"0 0 24 24\"\n",
              "     width=\"24px\">\n",
              "    <g>\n",
              "        <path d=\"M19 3H5c-1.1 0-2 .9-2 2v14c0 1.1.9 2 2 2h14c1.1 0 2-.9 2-2V5c0-1.1-.9-2-2-2zM9 17H7v-7h2v7zm4 0h-2V7h2v10zm4 0h-2v-4h2v4z\"/>\n",
              "    </g>\n",
              "</svg>\n",
              "  </button>\n",
              "\n",
              "<style>\n",
              "  .colab-df-quickchart {\n",
              "      --bg-color: #E8F0FE;\n",
              "      --fill-color: #1967D2;\n",
              "      --hover-bg-color: #E2EBFA;\n",
              "      --hover-fill-color: #174EA6;\n",
              "      --disabled-fill-color: #AAA;\n",
              "      --disabled-bg-color: #DDD;\n",
              "  }\n",
              "\n",
              "  [theme=dark] .colab-df-quickchart {\n",
              "      --bg-color: #3B4455;\n",
              "      --fill-color: #D2E3FC;\n",
              "      --hover-bg-color: #434B5C;\n",
              "      --hover-fill-color: #FFFFFF;\n",
              "      --disabled-bg-color: #3B4455;\n",
              "      --disabled-fill-color: #666;\n",
              "  }\n",
              "\n",
              "  .colab-df-quickchart {\n",
              "    background-color: var(--bg-color);\n",
              "    border: none;\n",
              "    border-radius: 50%;\n",
              "    cursor: pointer;\n",
              "    display: none;\n",
              "    fill: var(--fill-color);\n",
              "    height: 32px;\n",
              "    padding: 0;\n",
              "    width: 32px;\n",
              "  }\n",
              "\n",
              "  .colab-df-quickchart:hover {\n",
              "    background-color: var(--hover-bg-color);\n",
              "    box-shadow: 0 1px 2px rgba(60, 64, 67, 0.3), 0 1px 3px 1px rgba(60, 64, 67, 0.15);\n",
              "    fill: var(--button-hover-fill-color);\n",
              "  }\n",
              "\n",
              "  .colab-df-quickchart-complete:disabled,\n",
              "  .colab-df-quickchart-complete:disabled:hover {\n",
              "    background-color: var(--disabled-bg-color);\n",
              "    fill: var(--disabled-fill-color);\n",
              "    box-shadow: none;\n",
              "  }\n",
              "\n",
              "  .colab-df-spinner {\n",
              "    border: 2px solid var(--fill-color);\n",
              "    border-color: transparent;\n",
              "    border-bottom-color: var(--fill-color);\n",
              "    animation:\n",
              "      spin 1s steps(1) infinite;\n",
              "  }\n",
              "\n",
              "  @keyframes spin {\n",
              "    0% {\n",
              "      border-color: transparent;\n",
              "      border-bottom-color: var(--fill-color);\n",
              "      border-left-color: var(--fill-color);\n",
              "    }\n",
              "    20% {\n",
              "      border-color: transparent;\n",
              "      border-left-color: var(--fill-color);\n",
              "      border-top-color: var(--fill-color);\n",
              "    }\n",
              "    30% {\n",
              "      border-color: transparent;\n",
              "      border-left-color: var(--fill-color);\n",
              "      border-top-color: var(--fill-color);\n",
              "      border-right-color: var(--fill-color);\n",
              "    }\n",
              "    40% {\n",
              "      border-color: transparent;\n",
              "      border-right-color: var(--fill-color);\n",
              "      border-top-color: var(--fill-color);\n",
              "    }\n",
              "    60% {\n",
              "      border-color: transparent;\n",
              "      border-right-color: var(--fill-color);\n",
              "    }\n",
              "    80% {\n",
              "      border-color: transparent;\n",
              "      border-right-color: var(--fill-color);\n",
              "      border-bottom-color: var(--fill-color);\n",
              "    }\n",
              "    90% {\n",
              "      border-color: transparent;\n",
              "      border-bottom-color: var(--fill-color);\n",
              "    }\n",
              "  }\n",
              "</style>\n",
              "\n",
              "  <script>\n",
              "    async function quickchart(key) {\n",
              "      const quickchartButtonEl =\n",
              "        document.querySelector('#' + key + ' button');\n",
              "      quickchartButtonEl.disabled = true;  // To prevent multiple clicks.\n",
              "      quickchartButtonEl.classList.add('colab-df-spinner');\n",
              "      try {\n",
              "        const charts = await google.colab.kernel.invokeFunction(\n",
              "            'suggestCharts', [key], {});\n",
              "      } catch (error) {\n",
              "        console.error('Error during call to suggestCharts:', error);\n",
              "      }\n",
              "      quickchartButtonEl.classList.remove('colab-df-spinner');\n",
              "      quickchartButtonEl.classList.add('colab-df-quickchart-complete');\n",
              "    }\n",
              "    (() => {\n",
              "      let quickchartButtonEl =\n",
              "        document.querySelector('#df-969d98d4-8f17-41d7-8222-0793bcaf84d4 button');\n",
              "      quickchartButtonEl.style.display =\n",
              "        google.colab.kernel.accessAllowed ? 'block' : 'none';\n",
              "    })();\n",
              "  </script>\n",
              "</div>\n",
              "\n",
              "    </div>\n",
              "  </div>\n"
            ],
            "application/vnd.google.colaboratory.intrinsic+json": {
              "type": "dataframe",
              "variable_name": "df",
              "summary": "{\n  \"name\": \"df\",\n  \"rows\": 50,\n  \"fields\": [\n    {\n      \"column\": \"search_term\",\n      \"properties\": {\n        \"dtype\": \"string\",\n        \"num_unique_values\": 50,\n        \"samples\": [\n          \"how did hello world originate\",\n          \"how to do hello world in java\",\n          \"how to code hello world\"\n        ],\n        \"semantic_type\": \"\",\n        \"description\": \"\"\n      }\n    }\n  ]\n}"
            }
          },
          "metadata": {},
          "execution_count": 42
        }
      ]
    },
    {
      "cell_type": "code",
      "source": [
        "def embed_text (texts,input_type) :\n",
        "  response = co.embed (\n",
        "      texts=texts,\n",
        "      input_type=input_type,\n",
        "      model='embed-english-v3.0'\n",
        "  )\n",
        "  return response.embeddings\n"
      ],
      "metadata": {
        "id": "1JrQwPWgk14-"
      },
      "execution_count": 30,
      "outputs": []
    },
    {
      "cell_type": "code",
      "source": [
        "df[\"search_term_embeds\"] = embed_text(texts=df[\"search_term\"].to_list(), input_type=\"search_document\")\n",
        "doc_embeds=np.array(df[\"search_term_embeds\"].to_list())\n",
        "\n",
        "print(doc_embeds)"
      ],
      "metadata": {
        "colab": {
          "base_uri": "https://localhost:8080/"
        },
        "id": "ySqdb0cIlhzE",
        "outputId": "c47c402a-7229-4311-fe17-7dbdcb778cbc"
      },
      "execution_count": 34,
      "outputs": [
        {
          "output_type": "stream",
          "name": "stdout",
          "text": [
            "[[-0.01529694  0.0007019  -0.05459595 ...  0.02905273  0.01190186\n",
            "   0.000844  ]\n",
            " [-0.03091431 -0.0048523  -0.08654785 ...  0.04327393 -0.01036835\n",
            "   0.00434113]\n",
            " [ 0.00720215  0.00778198 -0.06567383 ...  0.01437378  0.00931549\n",
            "  -0.00437546]\n",
            " ...\n",
            " [-0.03549194 -0.00291634 -0.07800293 ...  0.02391052  0.00025868\n",
            "  -0.01421356]\n",
            " [ 0.00146294  0.00594711 -0.0475769  ...  0.02461243  0.00104904\n",
            "  -0.00349426]\n",
            " [-0.00374413 -0.00730515 -0.04486084 ...  0.01454926  0.00818634\n",
            "  -0.00928497]]\n"
          ]
        }
      ]
    },
    {
      "cell_type": "code",
      "source": [
        "#Semantic search\n",
        "\n",
        "new_query = \"what is the history of hello world\"\n",
        "\n",
        "query_embeds = embed_text(texts = [query], input_type=\"search_query\")[0]\n",
        "\n",
        "print (query_embeds)"
      ],
      "metadata": {
        "colab": {
          "base_uri": "https://localhost:8080/"
        },
        "id": "efXLZz9_ojd7",
        "outputId": "d2eb032f-15d6-4280-fbe0-ed19c7a5b44b"
      },
      "execution_count": 40,
      "outputs": [
        {
          "output_type": "stream",
          "name": "stdout",
          "text": [
            "[-0.022201538, -0.037109375, -0.0524292, -0.07550049, -0.031341553, -0.0049591064, -0.053955078, 0.07922363, 0.020446777, 0.03353882, -0.011528015, 0.03744507, 0.011047363, -0.021240234, 0.022003174, 0.008178711, 0.005722046, -0.010597229, -0.011116028, -0.010375977, -0.005519867, 0.002231598, 0.010696411, -0.024551392, 0.06439209, -0.09338379, 0.06561279, 0.0064926147, 0.021362305, -0.02418518, 0.035369873, -0.0048599243, 0.025268555, 0.02319336, -0.017562866, 0.0713501, 0.00111866, 0.013549805, 0.034088135, -0.025650024, 0.020080566, -0.0016012192, 0.032989502, -0.034576416, -0.009544373, 0.023605347, -0.03201294, -0.029281616, 0.015007019, -0.0129776, -0.0104522705, -0.01625061, -0.005882263, -0.032104492, -0.014472961, -0.023971558, -0.06304932, -0.0026607513, -0.0049552917, 0.080566406, 0.03805542, 0.0309906, 0.00049591064, 0.018829346, 0.017959595, -0.0012874603, 0.0579834, -0.0069084167, 0.015586853, 0.003528595, 0.0066108704, 0.023635864, -0.012313843, -0.051696777, -0.0113220215, 0.074645996, -0.027175903, 0.015281677, 0.004360199, 0.0025997162, 0.0473938, 0.045684814, 0.0074310303, -0.0770874, 0.04763794, -0.053649902, 0.00012862682, -0.0037059784, -0.0019454956, -0.021911621, -0.033081055, 0.033996582, -0.014709473, -0.0016059875, -0.048095703, 0.01625061, -0.0038719177, 0.041748047, -0.026428223, -0.017929077, -0.02809143, 0.010566711, -0.053131104, -0.018249512, -0.0046653748, -0.020111084, -0.028823853, 0.026153564, 0.046569824, 0.07574463, -0.009529114, 0.005176544, -0.0029201508, -0.028213501, -0.003993988, 0.015090942, -0.035705566, 0.050476074, 0.016555786, 0.038146973, -0.0013380051, 0.015670776, -0.023986816, 0.028457642, -0.012954712, -0.0105896, -0.00667572, -0.020462036, 0.06903076, 0.0028152466, -0.013191223, -0.012123108, -0.04937744, 0.011795044, -0.00084733963, -0.015167236, 0.04345703, -0.053619385, -0.028396606, 0.04434204, 0.0018625259, -0.054901123, -0.02696228, -0.016662598, -0.006362915, 0.010017395, -0.0004849434, -0.007881165, 0.024978638, 0.012420654, -0.07293701, 0.020355225, -0.003786087, 0.0045547485, -0.011001587, 0.012878418, -0.045562744, 0.011245728, 0.01612854, 0.036254883, -0.026687622, -0.017990112, 0.043304443, -0.0028514862, -0.0065956116, 0.012359619, -0.012565613, 0.00983429, -0.003452301, 0.015151978, 0.0035572052, 0.04348755, -0.05343628, -0.051452637, -0.009567261, -0.050598145, -0.0055351257, 0.016403198, -0.03250122, 0.09631348, 0.07537842, -0.0008254051, -0.039215088, 0.04763794, -0.04989624, 0.031433105, -0.019500732, 0.047302246, 0.03955078, -0.001083374, 0.047821045, 0.012382507, -0.06555176, 0.07897949, -0.032104492, -0.03765869, 0.024993896, 0.018127441, -0.006084442, -0.032928467, -0.019607544, 0.01133728, -0.010154724, -0.0014810562, -0.0062789917, -0.009811401, 0.005592346, 0.009666443, 0.01675415, 0.049194336, -0.019134521, 0.0018634796, 0.0309906, -0.07873535, -0.0061149597, -0.015129089, -0.029067993, 0.046966553, 0.03152466, -0.009719849, 0.025100708, -0.023544312, 0.02293396, -0.027862549, -0.026000977, 0.0018787384, -0.019424438, 0.019332886, -0.026626587, -0.0007557869, 0.048187256, 0.006126404, 0.0057144165, -0.0066375732, -0.06738281, -0.04473877, -0.059661865, -0.047973633, 0.011444092, 0.071899414, 0.011146545, -0.03112793, -0.052581787, -0.0023479462, 0.006752014, -0.010772705, -0.004425049, 0.023925781, -0.043273926, -0.012130737, 0.017807007, 0.016906738, 0.0014791489, -0.00050497055, -0.023376465, 0.033294678, 0.004245758, -0.01739502, 0.019760132, -0.0046539307, 0.007797241, -0.049621582, -0.020263672, -0.015602112, 0.0075187683, -0.02330017, -0.0036067963, -0.017364502, -0.017303467, -0.01020813, 0.021011353, -0.027389526, -0.030822754, -0.013496399, 0.09661865, -0.030715942, -0.026733398, -0.01159668, -0.014625549, -0.008468628, -0.01335144, -0.0118255615, -0.033447266, -0.0021572113, 0.001414299, -0.055664062, 0.009864807, 0.032684326, 0.03918457, 0.047943115, 0.05014038, 0.023864746, 0.0044555664, 0.01361084, 0.008255005, -0.031066895, -0.028640747, 0.03643799, 0.0054130554, -0.0032444, -0.025146484, 0.022888184, 0.0030517578, 0.0046653748, -0.009483337, -0.0064735413, 0.011222839, -0.012687683, 0.013839722, -0.0019664764, 0.01448822, 0.035491943, 0.008842468, 0.072143555, -0.06109619, -0.04937744, -0.010971069, 0.023010254, -0.027664185, 0.016174316, 0.008346558, -0.023727417, 0.006793976, -0.013183594, -0.027328491, -0.005569458, 0.017089844, -0.0030384064, -0.0013284683, 0.010040283, 0.022140503, 0.0060539246, -0.021972656, -0.0012159348, 0.015182495, -0.0055007935, 0.010681152, -0.014373779, -0.01751709, -0.0069503784, 0.0259552, -0.034423828, 0.01902771, 0.0010004044, 0.00036597252, -0.036987305, -0.018051147, 0.007858276, -0.0007753372, -0.008117676, 0.012298584, 0.0011520386, -0.0058555603, -0.0085372925, -0.020370483, 0.020339966, 0.02897644, -0.052490234, -0.029785156, -0.06506348, 0.019683838, 0.026153564, -0.0015907288, -0.009162903, -0.036254883, -0.033081055, 0.042785645, -0.0066986084, -0.06161499, 0.01852417, -0.0013055801, -0.029907227, 0.0070762634, -0.039398193, -0.08099365, -0.0015621185, 0.048706055, -0.014350891, 0.011024475, 0.040771484, 0.018508911, 0.060913086, -0.072021484, 0.02720642, 0.06652832, -0.012825012, 0.011154175, 0.022720337, 0.056762695, 0.011291504, 0.0019207001, -0.038879395, -0.016830444, -0.021697998, 0.043182373, -0.00806427, -0.007522583, 0.014427185, -0.06878662, -0.009727478, -0.041778564, 0.021911621, 0.01902771, 0.01360321, -0.07165527, 0.06384277, -0.059295654, -0.0057640076, 0.014404297, 0.04244995, 0.0127334595, -0.038879395, 0.0018758774, -0.010124207, -0.0005950928, -0.0021743774, -0.05505371, -0.03793335, 0.036590576, 0.03781128, -0.02748108, 0.050872803, -0.0028800964, 0.03845215, 0.011016846, 0.029708862, 0.013694763, -0.01940918, 0.06500244, -0.006362915, 0.015274048, -0.015731812, 0.006706238, 0.017913818, -0.022888184, 0.014335632, -0.04208374, -0.0026836395, 0.0030593872, -0.034179688, -0.03488159, -0.029586792, 0.0019664764, 0.010551453, 0.031799316, -0.0065994263, -0.042633057, -0.024368286, -0.041259766, 0.030593872, -0.026000977, 0.018478394, -0.059539795, 0.037353516, -0.021774292, -0.022857666, 0.0014352798, -0.0011768341, 0.03994751, -0.013748169, -0.0390625, 0.021347046, -0.0056037903, -0.042388916, -0.01965332, 0.014541626, 0.040130615, -0.026000977, -0.05581665, 0.031982422, -0.028640747, -0.031829834, 0.05239868, 0.042999268, -0.028030396, -0.0051841736, -0.022216797, 0.03616333, -0.030853271, 0.012184143, -0.024337769, 0.031585693, -0.00016152859, -0.05581665, -0.023010254, -0.0022506714, -0.06378174, -0.0713501, -0.008506775, 0.02960205, 0.024749756, -0.008918762, 0.029037476, 0.022415161, 0.00040841103, -0.010147095, -0.0134887695, 0.062469482, 0.020599365, -0.012123108, -0.027557373, -0.0029067993, -0.033721924, -0.0013179779, 0.006706238, 0.025497437, 0.005126953, 0.00023579597, -0.00041103363, 0.011306763, 0.016860962, -0.014976501, 0.034606934, -0.03842163, 0.0076828003, 0.022384644, -0.024749756, -0.033233643, -0.0030651093, 0.009788513, -0.0036678314, -0.008529663, 0.016448975, 0.03277588, 0.011306763, -0.013313293, 0.034179688, 0.011306763, -0.024047852, -0.0002989769, 0.057922363, 0.056884766, 0.009925842, -0.050231934, -0.022567749, -0.017684937, 0.00068950653, -0.038482666, 0.026519775, 0.028625488, 0.046417236, 0.01676941, -0.03111267, 0.02986145, 0.019714355, -0.014045715, 0.011436462, 0.0357666, -0.050231934, 0.04827881, -0.032836914, -0.026397705, 0.01914978, -0.009742737, -0.026763916, 0.0076675415, -0.007980347, -0.0013256073, -0.022537231, 0.049987793, -0.013427734, 0.013549805, -0.012359619, 0.0043563843, -0.020996094, 0.007484436, 0.038269043, 0.012542725, -0.01171875, 0.013557434, -0.008033752, -0.01651001, 0.017028809, 0.009140015, -0.032562256, -0.011436462, -0.020019531, 0.02810669, -0.0211792, 0.04559326, -0.013618469, 0.021011353, -0.022644043, 0.099487305, 0.00068616867, 0.07080078, -0.024093628, 0.07019043, 0.008705139, 0.037322998, -0.006263733, -0.025436401, -0.008277893, 0.018325806, 0.0075569153, 0.013946533, 0.011817932, -0.0357666, 0.03189087, 0.00014793873, 0.009559631, 0.013465881, 0.006149292, -0.014846802, -0.027236938, -0.020187378, -0.020492554, -0.026992798, -0.0035152435, 0.0057411194, 0.052734375, 0.0029735565, -0.017990112, 0.008178711, 0.008903503, -0.03930664, -0.03475952, 0.0006599426, 0.023010254, 0.019638062, 0.02885437, -0.024963379, 0.02508545, 0.052246094, 0.050811768, -0.056549072, -0.036743164, -0.011314392, 0.0178833, -0.01928711, -0.022018433, 0.0035915375, -0.024368286, -0.044006348, -0.0031909943, 0.06060791, -0.024719238, -0.0072517395, -0.04711914, -0.035308838, 0.025863647, 0.020492554, 0.029724121, 0.0050621033, -0.026504517, -0.0030021667, 0.00674057, -0.03338623, 0.008766174, -0.02357483, -0.029678345, -0.020187378, -0.05831909, 0.003944397, 0.024398804, -0.003408432, -0.016845703, 0.049591064, -0.004585266, -0.023483276, -0.048065186, -0.006275177, 0.024871826, -0.032348633, 0.014190674, 0.027389526, 0.012840271, 0.053466797, -0.033050537, 0.044067383, 0.015357971, 0.045898438, 0.000579834, 0.0262146, -0.008468628, -0.001203537, 0.045318604, 0.008140564, -0.017288208, 0.013114929, -0.012191772, 0.04046631, 0.032165527, 0.020843506, -0.053497314, 0.00907135, 0.011955261, 0.003074646, 0.009422302, -0.017974854, -0.068603516, -0.015113831, -0.017608643, -0.020706177, 0.048614502, 0.008102417, -0.040161133, -0.026794434, -0.019515991, -0.011100769, 0.0017566681, -0.0044288635, 0.010284424, -0.037109375, -0.006038666, 0.011253357, -0.024002075, -0.010917664, -0.009857178, 0.033569336, -0.02394104, -0.050445557, -0.033599854, -0.035003662, 0.06161499, -0.040161133, -0.040924072, -0.040496826, -0.045318604, -0.0029411316, -0.012687683, -0.059173584, 0.0033397675, 0.021102905, 0.0058670044, -0.019760132, -0.0020580292, 0.010559082, -0.008781433, -0.038146973, 0.004585266, 0.043548584, -0.030090332, -0.0022182465, -0.0037212372, 0.061584473, -0.0074272156, 0.037719727, 0.001709938, 0.021911621, 0.011276245, -0.015838623, 0.03237915, 0.01411438, 0.036102295, 0.016921997, 0.012245178, 0.0041999817, -0.00078201294, 0.011413574, 0.010032654, -0.005088806, 0.043762207, -0.015213013, 0.014564514, -0.06951904, -0.060455322, 0.015808105, 0.09729004, -0.026947021, -0.048309326, -0.01134491, 0.003332138, 0.04458618, -0.01626587, 0.025680542, 0.08959961, 0.057617188, -0.026489258, 0.005870819, 0.039154053, -0.018508911, 0.013252258, 0.032836914, -0.009056091, 0.044006348, 0.038970947, -0.050811768, 0.0068359375, -0.0034122467, 0.011451721, -0.016952515, 0.018463135, -0.00381279, 0.004383087, -0.022399902, 0.0028305054, 0.030380249, 0.009712219, 0.07385254, -0.044708252, 0.025527954, 0.035339355, 0.08154297, 0.032684326, -0.003490448, 0.02519226, 0.03414917, 0.01737976, -0.02999878, 0.0031013489, 0.043395996, -0.07836914, -0.045318604, -0.046966553, -0.020568848, 0.045959473, -0.043640137, -0.0770874, 0.047790527, -0.027130127, -0.08068848, 0.066711426, -0.012931824, 0.13513184, -0.05496216, -0.009391785, -0.014320374, 0.0029067993, -0.056915283, 0.026779175, 0.051757812, 0.019165039, -0.01701355, -0.00081014633, 0.046417236, -0.049224854, 0.012214661, -0.0043411255, -0.00730896, 0.045135498, 0.008483887, 0.008216858, 0.011932373, -0.018844604, 0.005317688, 0.030181885, -0.020309448, 0.019744873, 0.037841797, 0.011756897, -0.031402588, 0.017227173, 0.0022659302, -0.010795593, 0.025741577, 0.019622803, -0.024597168, 0.0070266724, -0.019134521, 0.06640625, -0.047210693, -0.009529114, 0.019378662, -0.0065231323, -0.055847168, -0.005077362, -0.027313232, -0.0050964355, 0.010307312, -0.020370483, 0.0048599243, -0.026748657, -0.0053482056, 0.0060424805, -0.020446777, -0.0541687, -0.010276794, -0.029373169, -0.0340271, 0.013198853, 0.045440674, -0.00023972988, -0.00390625, -0.020477295, -0.021560669, 0.0036945343, -0.008361816, -0.018951416, -0.009559631, 0.036254883, 0.0063209534, 0.023864746, -0.05014038, -0.018707275, 0.027496338, -0.003736496, 0.0016670227, -0.051574707, 0.00026869774, -0.01777649, -0.024551392, 0.012527466, -0.0076828003, -0.026016235, -0.01474762, -0.016616821, 0.010826111, 0.0031967163, -0.0024356842, 0.0026054382, 0.0030765533, -0.025543213, 0.022247314, -0.0008845329, 0.010772705, 0.016113281, 0.0012779236, -0.014282227, -0.014160156, 0.008300781, 0.0042915344, 0.015396118, 0.059173584, -0.0046157837, -0.00022745132, -0.0027561188, 0.008522034, 0.055664062, -0.049468994, -0.0001887083, 0.06304932, -0.02708435, -0.024139404, -0.0423584, -0.002204895, -0.022872925, -0.036743164, -0.0076675415, -0.026107788, -0.04421997, -0.023971558, 0.039215088, -0.07702637, 0.053100586, -0.022827148, -0.00066900253, -0.033966064, -0.03111267, 0.07171631, -0.0020599365, 0.0035305023, 0.0028495789, 0.040863037, -0.008117676, 0.07006836, -0.0126571655, 0.009971619, -0.004966736, 0.008972168, -0.001376152, 0.006504059, -0.058258057, 0.027297974, -0.008201599, -0.0021514893, -0.008804321, 0.07562256, 0.046661377, 0.01537323, -0.005088806, 0.025177002, -0.011688232, -0.030838013, -0.011413574, 0.026901245, -0.004005432, 0.023666382, -0.013710022, -0.004611969, -0.040527344, -0.022750854, 0.014907837, -0.038879395, 0.0065231323, -0.034576416, 0.011413574, 0.009010315, -0.056274414, -0.0048828125, -0.016967773, -0.033203125, -0.0054092407, 0.022125244, -0.04046631, 0.017486572, -0.021621704, -0.008277893, 0.02180481, 0.008171082, 0.01739502, 0.07501221, -0.0057792664, -0.018203735, 0.033172607, -4.7922134e-05, 0.021469116, -0.05496216, 0.024795532, 0.0062217712, 0.023132324, -0.0118637085, 0.017440796, -0.01739502, 0.016830444, -0.062286377, -0.061340332, -0.020111084, 0.031143188, -0.062561035, -0.010246277, 0.07086182, 0.01386261, -0.083618164, 0.01222229, -0.044677734, -0.0013427734, 0.015327454, -0.0068511963, -0.03945923, -0.0034942627, 0.063964844, -0.009376526, 0.011123657]\n"
          ]
        }
      ]
    },
    {
      "cell_type": "code",
      "source": [
        "# calculate cosine similarity\n",
        "\n",
        "from sklearn.metrics.pairwise import cosine_similarity\n",
        "\n",
        "def get_similarity(target, candidates) :\n",
        "  candidates=np.array(candidates)\n",
        "\n",
        "  target=np.expand_dims(np.array(target), axis=0)\n",
        "\n",
        "  sim=cosine_similarity(target,candidates)\n",
        "\n",
        "  sim=np.squeeze(sim).tolist()\n",
        "\n",
        "  sim=list(enumerate(sim))\n",
        "\n",
        "  sim=sorted(sim,key=lambda x : x[1], reverse=True)\n",
        "\n",
        "  return sim\n",
        "\n",
        "  return sim"
      ],
      "metadata": {
        "id": "htwi8fs3pMSc"
      },
      "execution_count": 46,
      "outputs": []
    },
    {
      "cell_type": "code",
      "source": [
        "similarity = get_similarity(query_embeds, doc_embeds)\n",
        "\n",
        "print(similarity)\n",
        "\n",
        "print(\"New Query :\")\n",
        "print(new_query, '\\n')\n",
        "\n",
        "print(\"Similar queries present with LLMs :\")\n",
        "\n",
        "for idx, score in similarity[:5] :\n",
        "  print(f\"Similarity: {score: .2f};\", df.iloc[idx][\"search_term\"])\n",
        "\n"
      ],
      "metadata": {
        "colab": {
          "base_uri": "https://localhost:8080/"
        },
        "id": "QWuIbqB9qLFh",
        "outputId": "9d866059-38f8-45dd-8f19-04936ac50b80"
      },
      "execution_count": 48,
      "outputs": [
        {
          "output_type": "stream",
          "name": "stdout",
          "text": [
            "[(13, 0.5757671508972435), (12, 0.5615980496446129), (29, 0.5440091788166727), (7, 0.5317198582898481), (1, 0.5314049946019805), (37, 0.5010590434881663), (27, 0.4344591183060368), (30, 0.4322535180172028), (41, 0.38850784867010935), (40, 0.38477380913766246), (33, 0.38271094927150173), (39, 0.38213055718510447), (48, 0.3765261433552257), (45, 0.37025628452070136), (46, 0.37023745356439275), (35, 0.3697490470020607), (34, 0.3687318764817521), (43, 0.36482680662298633), (38, 0.3639093366667351), (44, 0.3555118475216402), (11, 0.35414950807148404), (4, 0.3523586129613683), (42, 0.3519271294475195), (22, 0.3497432112982297), (31, 0.348449638423742), (32, 0.34599617538448285), (17, 0.34456523395942296), (8, 0.3440831736619847), (14, 0.3434858954616794), (26, 0.3427687403163508), (23, 0.34228895260472403), (47, 0.3422410522402656), (6, 0.34181553721138075), (10, 0.34048954888944394), (21, 0.33749966938675624), (2, 0.3333628377489644), (0, 0.3284583036721811), (15, 0.32829687776622074), (9, 0.32696600410839266), (3, 0.32667428263698967), (18, 0.32460907360469826), (5, 0.3238849332814242), (25, 0.3206409247186417), (28, 0.3119576058807252), (24, 0.30564792823111764), (20, 0.3013079914230846), (19, 0.3010853911156817), (16, 0.29978286888106787), (49, 0.2911775773621885), (36, 0.29011355221498836)]\n",
            "New Query :\n",
            "what is the history of hello world \n",
            "\n",
            "Similar queries present with LLMs :\n",
            "Similarity:  0.58; how did hello world originate\n",
            "Similarity:  0.56; where did hello world come from\n",
            "Similarity:  0.54; why hello world\n",
            "Similarity:  0.53; why is hello world so famous\n",
            "Similarity:  0.53; what is hello world\n"
          ]
        }
      ]
    }
  ]
}